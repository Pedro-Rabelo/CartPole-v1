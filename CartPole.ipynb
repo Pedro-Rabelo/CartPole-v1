{
 "cells": [
  {
   "cell_type": "markdown",
   "metadata": {},
   "source": [
    "-pip install stable-baselines3[extra]\n",
    "-pip install gym[classic_control]\n",
    "-conda install -n ReinforcemenLearning ipykernel --update-deps --force-reinstall"
   ]
  },
  {
   "cell_type": "code",
   "execution_count": 11,
   "metadata": {},
   "outputs": [],
   "source": [
    "import gym\n",
    "from stable_baselines3 import PPO\n",
    "from stable_baselines3 import A2C\n",
    "from stable_baselines3.common.evaluation import evaluate_policy\n",
    "import os"
   ]
  },
  {
   "cell_type": "code",
   "execution_count": 26,
   "metadata": {},
   "outputs": [],
   "source": [
    "env = gym.make(\"CartPole-v1\")\n",
    "\n",
    "obs = env.reset()\n",
    "\n",
    "for i in range(350):\n",
    "    a = env.action_space.sample()\n",
    "    obs, recompensa, feito, info = env.step(a)\n",
    "    env.render()\n",
    "\n",
    "env.close()\n",
    "\n"
   ]
  },
  {
   "cell_type": "code",
   "execution_count": null,
   "metadata": {},
   "outputs": [],
   "source": [
    "models_dir = \"models/PPO\"\n",
    "logdir = \"logs\"\n",
    "\n",
    "if not os.path.exists(models_dir):\n",
    "  os.makedirs(models_dir)\n",
    "\n",
    "if not os.path.exists(logdir):\n",
    "  os.makedirs(logdir)\n",
    "\n",
    "env = gym.make(\"CartPole-v1\")\n",
    "env.reset()\n",
    "\n",
    "model = PPO('MlpPolicy', env, verbose=1, tensorboard_log=logdir)\n",
    "\n",
    "treinamentos = 2000\n",
    "\n",
    "for i in range(1,21):\n",
    "  model.learn(total_timesteps=treinamentos, reset_num_timesteps=False, tb_log_name=\"PPO\")\n",
    "  model.save(f\"{models_dir}/{treinamentos*i}\")"
   ]
  },
  {
   "cell_type": "code",
   "execution_count": null,
   "metadata": {},
   "outputs": [],
   "source": [
    "models_dir = \"models/A2C\"\n",
    "logdir = \"logs\"\n",
    "\n",
    "if not os.path.exists(models_dir):\n",
    "  os.makedirs(models_dir)\n",
    "\n",
    "if not os.path.exists(logdir):\n",
    "  os.makedirs(logdir)\n",
    "\n",
    "env = gym.make(\"CartPole-v1\")\n",
    "env.reset()\n",
    "\n",
    "model = A2C('MlpPolicy', env, verbose=1, tensorboard_log=logdir)\n",
    "\n",
    "treinamentos = 2000\n",
    "\n",
    "for i in range(1,21):\n",
    "  model.learn(total_timesteps=treinamentos, reset_num_timesteps=False, tb_log_name=\"A2C\")\n",
    "  model.save(f\"{models_dir}/{treinamentos*i}\")"
   ]
  },
  {
   "cell_type": "code",
   "execution_count": null,
   "metadata": {},
   "outputs": [],
   "source": [
    "\n",
    "env = gym.make(\"CartPole-v1\")\n",
    "env.reset()\n",
    "\n",
    "models_dir = \"models/PPO\"\n",
    "model_path = f\"{models_dir}/40000.zip\"\n",
    "\n",
    "model = PPO.load(model_path, env=env)\n",
    "\n",
    "for i in range(5):\n",
    "  obs = env.reset()\n",
    "  feito = False\n",
    "  \n",
    "  while not feito:\n",
    "    acao, _ = model.predict(obs)\n",
    "    obs, recompensa, feito, info = env.step(acao)\n",
    "    env.render()\n",
    "\n",
    "env.close()\n"
   ]
  }
 ],
 "metadata": {
  "kernelspec": {
   "display_name": "Python 3.7.13 ('ReinforcemenLearning')",
   "language": "python",
   "name": "python3"
  },
  "language_info": {
   "codemirror_mode": {
    "name": "ipython",
    "version": 3
   },
   "file_extension": ".py",
   "mimetype": "text/x-python",
   "name": "python",
   "nbconvert_exporter": "python",
   "pygments_lexer": "ipython3",
   "version": "3.7.13"
  },
  "orig_nbformat": 4,
  "vscode": {
   "interpreter": {
    "hash": "469f1afcbe645c9ed8ce88eefcc7920fa01b6c56016741037ab890eb4f19e34d"
   }
  }
 },
 "nbformat": 4,
 "nbformat_minor": 2
}
